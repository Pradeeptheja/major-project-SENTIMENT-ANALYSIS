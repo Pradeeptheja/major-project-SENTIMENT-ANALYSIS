{
  "nbformat": 4,
  "nbformat_minor": 0,
  "metadata": {
    "colab": {
      "name": "Sentiment Analysis.ipynb",
      "provenance": [],
      "collapsed_sections": [],
      "authorship_tag": "ABX9TyOnrRR3wM1m5K2yyZIuTGw6",
      "include_colab_link": true
    },
    "kernelspec": {
      "name": "python3",
      "display_name": "Python 3"
    },
    "language_info": {
      "name": "python"
    }
  },
  "cells": [
    {
      "cell_type": "markdown",
      "metadata": {
        "id": "view-in-github",
        "colab_type": "text"
      },
      "source": [
        "<a href=\"https://colab.research.google.com/github/Pradeeptheja/major-project-SENTIMENT-ANALYSIS/blob/main/Sentiment_Analysis.ipynb\" target=\"_parent\"><img src=\"https://colab.research.google.com/assets/colab-badge.svg\" alt=\"Open In Colab\"/></a>"
      ]
    },
    {
      "cell_type": "code",
      "metadata": {
        "colab": {
          "base_uri": "https://localhost:8080/"
        },
        "id": "_IRjPtwONUm8",
        "outputId": "d90e8155-65fa-4885-a07a-ad71c377bf49"
      },
      "source": [
        "!pip install vadersentiment"
      ],
      "execution_count": null,
      "outputs": [
        {
          "output_type": "stream",
          "text": [
            "Collecting vadersentiment\n",
            "\u001b[?25l  Downloading https://files.pythonhosted.org/packages/76/fc/310e16254683c1ed35eeb97386986d6c00bc29df17ce280aed64d55537e9/vaderSentiment-3.3.2-py2.py3-none-any.whl (125kB)\n",
            "\u001b[K     |████████████████████████████████| 133kB 5.7MB/s \n",
            "\u001b[?25hRequirement already satisfied: requests in /usr/local/lib/python3.7/dist-packages (from vadersentiment) (2.23.0)\n",
            "Requirement already satisfied: chardet<4,>=3.0.2 in /usr/local/lib/python3.7/dist-packages (from requests->vadersentiment) (3.0.4)\n",
            "Requirement already satisfied: idna<3,>=2.5 in /usr/local/lib/python3.7/dist-packages (from requests->vadersentiment) (2.10)\n",
            "Requirement already satisfied: certifi>=2017.4.17 in /usr/local/lib/python3.7/dist-packages (from requests->vadersentiment) (2020.12.5)\n",
            "Requirement already satisfied: urllib3!=1.25.0,!=1.25.1,<1.26,>=1.21.1 in /usr/local/lib/python3.7/dist-packages (from requests->vadersentiment) (1.24.3)\n",
            "Installing collected packages: vadersentiment\n",
            "Successfully installed vadersentiment-3.3.2\n"
          ],
          "name": "stdout"
        }
      ]
    },
    {
      "cell_type": "code",
      "metadata": {
        "id": "YwO-kYFRNhHM"
      },
      "source": [
        "from vaderSentiment.vaderSentiment import SentimentIntensityAnalyzer\n",
        "vs = SentimentIntensityAnalyzer()"
      ],
      "execution_count": null,
      "outputs": []
    },
    {
      "cell_type": "code",
      "metadata": {
        "colab": {
          "base_uri": "https://localhost:8080/"
        },
        "id": "yeh3GdV4OCnO",
        "outputId": "22ec5169-787d-450c-a799-c2fb28c0b57e"
      },
      "source": [
        "text = 'The product is really  Awesome!!'\n",
        "vs.polarity_scores(text)"
      ],
      "execution_count": null,
      "outputs": [
        {
          "output_type": "execute_result",
          "data": {
            "text/plain": [
              "{'compound': 0.7164, 'neg': 0.0, 'neu': 0.446, 'pos': 0.554}"
            ]
          },
          "metadata": {
            "tags": []
          },
          "execution_count": 6
        }
      ]
    },
    {
      "cell_type": "code",
      "metadata": {
        "colab": {
          "base_uri": "https://localhost:8080/"
        },
        "id": "1PT1TKGLOtT_",
        "outputId": "7d998924-56bc-4eb3-d0cf-f19ce1da7e16"
      },
      "source": [
        "text2 = 'Who all loves older size i.e., 4.7 inch type should definitely go for this. Nothing is better than XR, XS or 11. Best for price and usage'\n",
        "vs.polarity_scores(text2)\n"
      ],
      "execution_count": null,
      "outputs": [
        {
          "output_type": "execute_result",
          "data": {
            "text/plain": [
              "{'compound': 0.8479, 'neg': 0.067, 'neu': 0.639, 'pos': 0.294}"
            ]
          },
          "metadata": {
            "tags": []
          },
          "execution_count": 12
        }
      ]
    },
    {
      "cell_type": "code",
      "metadata": {
        "colab": {
          "base_uri": "https://localhost:8080/"
        },
        "id": "EEdrkbTwQSzG",
        "outputId": "f5cd4d0f-8917-4232-ded5-f54136fe8774"
      },
      "source": [
        "text3 = \"we didn't learnt anything about ML\"\n",
        "vs.polarity_scores(text3)\n"
      ],
      "execution_count": null,
      "outputs": [
        {
          "output_type": "execute_result",
          "data": {
            "text/plain": [
              "{'compound': 0.0, 'neg': 0.0, 'neu': 1.0, 'pos': 0.0}"
            ]
          },
          "metadata": {
            "tags": []
          },
          "execution_count": 14
        }
      ]
    },
    {
      "cell_type": "code",
      "metadata": {
        "id": "aUzA_HsISQ0U"
      },
      "source": [
        "# Web Scraping"
      ],
      "execution_count": null,
      "outputs": []
    },
    {
      "cell_type": "code",
      "metadata": {
        "id": "1l5gcVO0T2zH"
      },
      "source": [
        "import requests\n",
        "from bs4 import BeautifulSoup\n",
        "import pandas as pd\n",
        "import numpy as np\n",
        "import os"
      ],
      "execution_count": null,
      "outputs": []
    },
    {
      "cell_type": "code",
      "metadata": {
        "id": "5RCJ60FjU0_G"
      },
      "source": [
        "url = 'https://inshorts.com/en/read/sports'\n",
        "news_data = []\n",
        "news_category = url.split('/')[-1]\n",
        "data = requests.get(url)\n",
        "soup = BeautifulSoup(data.content)\n",
        "print (soup"
      ],
      "execution_count": null,
      "outputs": []
    },
    {
      "cell_type": "code",
      "metadata": {
        "id": "dR6q5yGWW4rV"
      },
      "source": [
        "urls = ['https://inshorts.com/en/read/sports',\n",
        "        'https://inshorts.com/en/read/world',\n",
        "        'https://inshorts.com/en/read/politics']\n",
        "def build_dataset(urls):\n",
        "  news_data = []\n",
        "  for url in urls:\n",
        "    news_category = url.split('/')[-1]\n",
        "    data = requests.get(url)\n",
        "    soup = BeautifulSoup(data.content)\n",
        "\n",
        "    news_articles =[{'news_headline':headline.find('span',attrs={\"itemprop\":\"headline\"}).string\n",
        "                     'news_article':headline.find('div',attrs={\"itemprop\":\"articleBody\"}).string\n",
        "                     'news_category':news_category}\n",
        "                    \n",
        "                  for healine,article in zip(soup.find_all('div',class_=[\"news-card-title news-right-box\"]),\n",
        "                                             soup.find_all('div',class_=[\"news-card-content news-right-box\"]))]\n",
        "     news_articles = news_articles[0:20]\n",
        "     news_data.extend(news_articles)\n",
        "\n",
        "  df = pd.DataFrame(news_data)\n",
        "  df = df[['news_headline','news_article','news_category']]\n",
        "  return df                                      "
      ],
      "execution_count": null,
      "outputs": []
    },
    {
      "cell_type": "code",
      "metadata": {
        "id": "x6-3dUGnb9zN"
      },
      "source": [
        "df = build_dataset(urls)\n",
        "df.head()"
      ],
      "execution_count": null,
      "outputs": []
    },
    {
      "cell_type": "code",
      "metadata": {
        "id": "ty4-5Cd8dh8F"
      },
      "source": [
        "df.to_csv('news.csv',index=False)"
      ],
      "execution_count": null,
      "outputs": []
    },
    {
      "cell_type": "code",
      "metadata": {
        "colab": {
          "base_uri": "https://localhost:8080/",
          "height": 1000
        },
        "id": "YaNtq6cldtVc",
        "outputId": "30441f1e-d9ca-47c8-9167-cd3d32fa7d09"
      },
      "source": [
        "import pandas as pd\n",
        "df = pd.read_csv('https://raw.githubusercontent.com/diazonic/Machine-Learning-using-sklearn/master/Datasets/news.csv')\n",
        "df"
      ],
      "execution_count": null,
      "outputs": [
        {
          "output_type": "execute_result",
          "data": {
            "text/html": [
              "<div>\n",
              "<style scoped>\n",
              "    .dataframe tbody tr th:only-of-type {\n",
              "        vertical-align: middle;\n",
              "    }\n",
              "\n",
              "    .dataframe tbody tr th {\n",
              "        vertical-align: top;\n",
              "    }\n",
              "\n",
              "    .dataframe thead th {\n",
              "        text-align: right;\n",
              "    }\n",
              "</style>\n",
              "<table border=\"1\" class=\"dataframe\">\n",
              "  <thead>\n",
              "    <tr style=\"text-align: right;\">\n",
              "      <th></th>\n",
              "      <th>news_headline</th>\n",
              "      <th>news_article</th>\n",
              "      <th>news_category</th>\n",
              "    </tr>\n",
              "  </thead>\n",
              "  <tbody>\n",
              "    <tr>\n",
              "      <th>0</th>\n",
              "      <td>I'm a sucker for underdog stories, talking to ...</td>\n",
              "      <td>Talking about KKR spinner Varun Chakravarthy, ...</td>\n",
              "      <td>sports</td>\n",
              "    </tr>\n",
              "    <tr>\n",
              "      <th>1</th>\n",
              "      <td>Bolta hoon bhai: Rajasthan Royals to fan reque...</td>\n",
              "      <td>A fan took to Twitter to request Rajasthan Roy...</td>\n",
              "      <td>sports</td>\n",
              "    </tr>\n",
              "    <tr>\n",
              "      <th>2</th>\n",
              "      <td>Why are KXIP players wearing black armbands in...</td>\n",
              "      <td>Kings XI Punjab cricketers are wearing black a...</td>\n",
              "      <td>sports</td>\n",
              "    </tr>\n",
              "    <tr>\n",
              "      <th>3</th>\n",
              "      <td>IPL 2020 points table is getting interesting: ...</td>\n",
              "      <td>After KXIP took SRH's last six wickets in 13 b...</td>\n",
              "      <td>sports</td>\n",
              "    </tr>\n",
              "    <tr>\n",
              "      <th>4</th>\n",
              "      <td>How many Indian cricketers have hit 100 sixes ...</td>\n",
              "      <td>DC's Rishabh Pant today became the 14th Indian...</td>\n",
              "      <td>sports</td>\n",
              "    </tr>\n",
              "    <tr>\n",
              "      <th>5</th>\n",
              "      <td>Sandeep becomes 6th Indian pacer to take 100 I...</td>\n",
              "      <td>SRH pacer Sandeep Sharma on Saturday became th...</td>\n",
              "      <td>sports</td>\n",
              "    </tr>\n",
              "    <tr>\n",
              "      <th>6</th>\n",
              "      <td>Who is Varun Chakravarthy, ex-architect who re...</td>\n",
              "      <td>KKR spinner Varun Chakravarthy was born on Aug...</td>\n",
              "      <td>sports</td>\n",
              "    </tr>\n",
              "    <tr>\n",
              "      <th>7</th>\n",
              "      <td>Why did KKR's Rana flaunt jersey with 'Surinde...</td>\n",
              "      <td>Kolkata Knight Riders batsman Nitish Rana flau...</td>\n",
              "      <td>sports</td>\n",
              "    </tr>\n",
              "    <tr>\n",
              "      <th>8</th>\n",
              "      <td>KKR hand DC their 2nd loss in a row as Varun r...</td>\n",
              "      <td>KKR defeated DC by 59 runs in Abu Dhabi on Sat...</td>\n",
              "      <td>sports</td>\n",
              "    </tr>\n",
              "    <tr>\n",
              "      <th>9</th>\n",
              "      <td>Hats off for turning up: Sachin on Rana, Mande...</td>\n",
              "      <td>Former India batsman Sachin Tendulkar lauded K...</td>\n",
              "      <td>sports</td>\n",
              "    </tr>\n",
              "    <tr>\n",
              "      <th>10</th>\n",
              "      <td>KXIP take last 6 wickets in 13 balls to defend...</td>\n",
              "      <td>Kings XI Punjab defeated SunRisers Hyderabad b...</td>\n",
              "      <td>sports</td>\n",
              "    </tr>\n",
              "    <tr>\n",
              "      <th>11</th>\n",
              "      <td>Tanmay, who top-scored in 2008 U-19 WC which I...</td>\n",
              "      <td>Tanmay Srivastava, who top-scored in 2008 Unde...</td>\n",
              "      <td>sports</td>\n",
              "    </tr>\n",
              "    <tr>\n",
              "      <th>12</th>\n",
              "      <td>Dhoni would be a lot more hurt as youngsters l...</td>\n",
              "      <td>Talking about CSK's 10-wicket defeat against M...</td>\n",
              "      <td>sports</td>\n",
              "    </tr>\n",
              "    <tr>\n",
              "      <th>13</th>\n",
              "      <td>Padikkal hasn't got Hayden's chest but definit...</td>\n",
              "      <td>Talking about RCB batsman Devdutt Padikkal, te...</td>\n",
              "      <td>sports</td>\n",
              "    </tr>\n",
              "    <tr>\n",
              "      <th>14</th>\n",
              "      <td>CSK's Imran Tahir gives Riyan Parag leg-spin l...</td>\n",
              "      <td>After the match between CSK and RR on Monday, ...</td>\n",
              "      <td>sports</td>\n",
              "    </tr>\n",
              "    <tr>\n",
              "      <th>15</th>\n",
              "      <td>Happy to be back and performing: Narine on 64(...</td>\n",
              "      <td>KKR spinner Sunil Narine on Saturday returned ...</td>\n",
              "      <td>sports</td>\n",
              "    </tr>\n",
              "    <tr>\n",
              "      <th>16</th>\n",
              "      <td>Almost perfect performance, lucky to have Bumr...</td>\n",
              "      <td>Talking about their bowling against CSK on Fri...</td>\n",
              "      <td>sports</td>\n",
              "    </tr>\n",
              "    <tr>\n",
              "      <th>17</th>\n",
              "      <td>Finally, RCB bowling unit has earned captain V...</td>\n",
              "      <td>Former New Zealand all-rounder Scott Styris sa...</td>\n",
              "      <td>sports</td>\n",
              "    </tr>\n",
              "    <tr>\n",
              "      <th>18</th>\n",
              "      <td>Glad it's happening at this point of time: Iye...</td>\n",
              "      <td>After KKR defeated DC by 59 runs on Saturday, ...</td>\n",
              "      <td>sports</td>\n",
              "    </tr>\n",
              "    <tr>\n",
              "      <th>19</th>\n",
              "      <td>Gave Bumrah the new ball to counter Rayudu: MI...</td>\n",
              "      <td>MI's stand-in-captain Kieron Pollard said he m...</td>\n",
              "      <td>sports</td>\n",
              "    </tr>\n",
              "    <tr>\n",
              "      <th>20</th>\n",
              "      <td>Want to ensure India-China standoff doesn't es...</td>\n",
              "      <td>Trump administration officials said the US is ...</td>\n",
              "      <td>world</td>\n",
              "    </tr>\n",
              "    <tr>\n",
              "      <th>21</th>\n",
              "      <td>It's not how you talk about friends: Biden on ...</td>\n",
              "      <td>After US President Donald Trump said, \"Look at...</td>\n",
              "      <td>world</td>\n",
              "    </tr>\n",
              "    <tr>\n",
              "      <th>22</th>\n",
              "      <td>Nepal PM uses old map without Indian territory...</td>\n",
              "      <td>As India and Nepal try to mend ties after the ...</td>\n",
              "      <td>world</td>\n",
              "    </tr>\n",
              "    <tr>\n",
              "      <th>23</th>\n",
              "      <td>Monitoring Ladakh standoff, sharing info with ...</td>\n",
              "      <td>The United States is monitoring the India-Chin...</td>\n",
              "      <td>world</td>\n",
              "    </tr>\n",
              "    <tr>\n",
              "      <th>24</th>\n",
              "      <td>I voted for a guy named Trump: US Prez Trump c...</td>\n",
              "      <td>US President Donald Trump has cast his ballot ...</td>\n",
              "      <td>world</td>\n",
              "    </tr>\n",
              "    <tr>\n",
              "      <th>25</th>\n",
              "      <td>Just hair, bones: Officials as 7 decomposed bo...</td>\n",
              "      <td>Paraguay authorities have found at least seven...</td>\n",
              "      <td>world</td>\n",
              "    </tr>\n",
              "    <tr>\n",
              "      <th>26</th>\n",
              "      <td>US warns of Listeria outbreak linked to deli m...</td>\n",
              "      <td>US' health protection agency CDC has warned ab...</td>\n",
              "      <td>world</td>\n",
              "    </tr>\n",
              "    <tr>\n",
              "      <th>27</th>\n",
              "      <td>Pakistani man born without arms masters playin...</td>\n",
              "      <td>A 32-year-old Pakistani man, Muhammad Ikram, w...</td>\n",
              "      <td>world</td>\n",
              "    </tr>\n",
              "    <tr>\n",
              "      <th>28</th>\n",
              "      <td>What is yellow dust, which North Korea warned ...</td>\n",
              "      <td>North Korea warned its citizens to remain indo...</td>\n",
              "      <td>world</td>\n",
              "    </tr>\n",
              "    <tr>\n",
              "      <th>29</th>\n",
              "      <td>In many ways it's good, in many ways foolish: ...</td>\n",
              "      <td>During a rally in North Carolina on Saturday, ...</td>\n",
              "      <td>world</td>\n",
              "    </tr>\n",
              "    <tr>\n",
              "      <th>30</th>\n",
              "      <td>Senior al-Qaeda leader al-Masri who was on FBI...</td>\n",
              "      <td>Afghanistan's National Directorate of Security...</td>\n",
              "      <td>world</td>\n",
              "    </tr>\n",
              "    <tr>\n",
              "      <th>31</th>\n",
              "      <td>Trump's dangerous rhetoric fuelled hate crimes...</td>\n",
              "      <td>In an op-ed for India West, Democratic Preside...</td>\n",
              "      <td>world</td>\n",
              "    </tr>\n",
              "    <tr>\n",
              "      <th>32</th>\n",
              "      <td>State institute imports COVID-19 vaccine rejec...</td>\n",
              "      <td>A day after Brazilian President Jair Bolsonaro...</td>\n",
              "      <td>world</td>\n",
              "    </tr>\n",
              "    <tr>\n",
              "      <th>33</th>\n",
              "      <td>US reports its biggest rise in daily COVID-19 ...</td>\n",
              "      <td>The US has recorded its biggest one-day rise i...</td>\n",
              "      <td>world</td>\n",
              "    </tr>\n",
              "    <tr>\n",
              "      <th>34</th>\n",
              "      <td>Asia becomes 2nd region in world to cross 1 cr...</td>\n",
              "      <td>Asia became the second region in the world to ...</td>\n",
              "      <td>world</td>\n",
              "    </tr>\n",
              "    <tr>\n",
              "      <th>35</th>\n",
              "      <td>Poland President Andrzej Duda tests positive f...</td>\n",
              "      <td>Polish President Andrzej Duda has tested posit...</td>\n",
              "      <td>world</td>\n",
              "    </tr>\n",
              "    <tr>\n",
              "      <th>36</th>\n",
              "      <td>We may not recognise HK residents' British ove...</td>\n",
              "      <td>China said that it may not recognise British-i...</td>\n",
              "      <td>world</td>\n",
              "    </tr>\n",
              "    <tr>\n",
              "      <th>37</th>\n",
              "      <td>Release of Fukushima's water into sea can dama...</td>\n",
              "      <td>The release of Fukushima nuclear plant's conta...</td>\n",
              "      <td>world</td>\n",
              "    </tr>\n",
              "    <tr>\n",
              "      <th>38</th>\n",
              "      <td>Will talk to UK PM to get Nawaz Sharif deporte...</td>\n",
              "      <td>Pakistan PM Imran Khan said that his governmen...</td>\n",
              "      <td>world</td>\n",
              "    </tr>\n",
              "    <tr>\n",
              "      <th>39</th>\n",
              "      <td>No justification for Uighur concentration camp...</td>\n",
              "      <td>Talking about China's treatment of Uighur Musl...</td>\n",
              "      <td>world</td>\n",
              "    </tr>\n",
              "    <tr>\n",
              "      <th>40</th>\n",
              "      <td>Former Maharashtra CM Devendra Fadnavis tests ...</td>\n",
              "      <td>BJP leader and former Maharashtra CM Devendra ...</td>\n",
              "      <td>politics</td>\n",
              "    </tr>\n",
              "    <tr>\n",
              "      <th>41</th>\n",
              "      <td>Farooq to be Prez, Mufti Vice-Prez of People's...</td>\n",
              "      <td>National Conference leader Farooq Abdullah wil...</td>\n",
              "      <td>politics</td>\n",
              "    </tr>\n",
              "    <tr>\n",
              "      <th>42</th>\n",
              "      <td>Janta Dal Rashtravadi Party's candidate shot d...</td>\n",
              "      <td>Narayan Singh, Janta Dal Rashtravadi Party's c...</td>\n",
              "      <td>politics</td>\n",
              "    </tr>\n",
              "    <tr>\n",
              "      <th>43</th>\n",
              "      <td>If you have ED, I have CD: Eknath Khadse after...</td>\n",
              "      <td>After quitting Bharatiya Janata Party (BJP) to...</td>\n",
              "      <td>politics</td>\n",
              "    </tr>\n",
              "    <tr>\n",
              "      <th>44</th>\n",
              "      <td>President Kovind, Prime Minister Modi greet na...</td>\n",
              "      <td>President Ram Nath Kovind and PM Narendra Modi...</td>\n",
              "      <td>politics</td>\n",
              "    </tr>\n",
              "    <tr>\n",
              "      <th>45</th>\n",
              "      <td>J&amp;K leaders sometimes more dangerous than sepa...</td>\n",
              "      <td>Union Minister of State (MoS) Jitendra Singh c...</td>\n",
              "      <td>politics</td>\n",
              "    </tr>\n",
              "    <tr>\n",
              "      <th>46</th>\n",
              "      <td>Conspiracies of 'Gupkar gang' will not be tole...</td>\n",
              "      <td>J&amp;K BJP chief Ravinder Raina on Saturday said ...</td>\n",
              "      <td>politics</td>\n",
              "    </tr>\n",
              "    <tr>\n",
              "      <th>47</th>\n",
              "      <td>Those who promoted jungle raj are talking of d...</td>\n",
              "      <td>Bihar CM Nitish Kumar on Saturday, in an appar...</td>\n",
              "      <td>politics</td>\n",
              "    </tr>\n",
              "    <tr>\n",
              "      <th>48</th>\n",
              "      <td>We have to light a lamp at home in honour of s...</td>\n",
              "      <td>Prime Minister Narendra Modi on Sunday address...</td>\n",
              "      <td>politics</td>\n",
              "    </tr>\n",
              "    <tr>\n",
              "      <th>49</th>\n",
              "      <td>Include sanitation workers, domestic helps, gu...</td>\n",
              "      <td>Prime Minister Narendra Modi addressed the nat...</td>\n",
              "      <td>politics</td>\n",
              "    </tr>\n",
              "    <tr>\n",
              "      <th>50</th>\n",
              "      <td>Why no Hathras-like picnic over Punjab rape: S...</td>\n",
              "      <td>Union Finance Minister Nirmala Sitharaman on S...</td>\n",
              "      <td>politics</td>\n",
              "    </tr>\n",
              "    <tr>\n",
              "      <th>51</th>\n",
              "      <td>None of the Gandhis visited rape victim's fami...</td>\n",
              "      <td>After the half-burnt body of a six-year-old gi...</td>\n",
              "      <td>politics</td>\n",
              "    </tr>\n",
              "    <tr>\n",
              "      <th>52</th>\n",
              "      <td>PM Modi pays tribute to former PM Indira Gandh...</td>\n",
              "      <td>Prime Minister Narendra Modi on Sunday remembe...</td>\n",
              "      <td>politics</td>\n",
              "    </tr>\n",
              "    <tr>\n",
              "      <th>53</th>\n",
              "      <td>Mufti must be arrested for seditious remarks o...</td>\n",
              "      <td>The J&amp;K BJP has criticised former CM Mehbooba ...</td>\n",
              "      <td>politics</td>\n",
              "    </tr>\n",
              "    <tr>\n",
              "      <th>54</th>\n",
              "      <td>Rajnath Singh performs 'Shastra Puja' with Ind...</td>\n",
              "      <td>Defence Minister Rajnath Singh on Sunday perfo...</td>\n",
              "      <td>politics</td>\n",
              "    </tr>\n",
              "    <tr>\n",
              "      <th>55</th>\n",
              "      <td>COVID-19 vaccine should be free throughout the...</td>\n",
              "      <td>Delhi CM Arvind Kejriwal on Saturday said the ...</td>\n",
              "      <td>politics</td>\n",
              "    </tr>\n",
              "    <tr>\n",
              "      <th>56</th>\n",
              "      <td>Make COVID-19 vaccine free in K'taka too: Sidd...</td>\n",
              "      <td>Opposition leader Siddaramaiah said that the K...</td>\n",
              "      <td>politics</td>\n",
              "    </tr>\n",
              "    <tr>\n",
              "      <th>57</th>\n",
              "      <td>Delhi CM Kejriwal inaugurates flyovers at Seel...</td>\n",
              "      <td>Delhi CM Arvind Kejriwal on Saturday inaugurat...</td>\n",
              "      <td>politics</td>\n",
              "    </tr>\n",
              "    <tr>\n",
              "      <th>58</th>\n",
              "      <td>Delhi court issues bailable warrant against Ka...</td>\n",
              "      <td>A Delhi court has issued a bailable warrant ag...</td>\n",
              "      <td>politics</td>\n",
              "    </tr>\n",
              "    <tr>\n",
              "      <th>59</th>\n",
              "      <td>Lalu ji to be released on Nov 9, Nitish's fare...</td>\n",
              "      <td>Rashtriya Janata Dal (RJD) leader Tejashwi Yad...</td>\n",
              "      <td>politics</td>\n",
              "    </tr>\n",
              "  </tbody>\n",
              "</table>\n",
              "</div>"
            ],
            "text/plain": [
              "                                        news_headline  ... news_category\n",
              "0   I'm a sucker for underdog stories, talking to ...  ...        sports\n",
              "1   Bolta hoon bhai: Rajasthan Royals to fan reque...  ...        sports\n",
              "2   Why are KXIP players wearing black armbands in...  ...        sports\n",
              "3   IPL 2020 points table is getting interesting: ...  ...        sports\n",
              "4   How many Indian cricketers have hit 100 sixes ...  ...        sports\n",
              "5   Sandeep becomes 6th Indian pacer to take 100 I...  ...        sports\n",
              "6   Who is Varun Chakravarthy, ex-architect who re...  ...        sports\n",
              "7   Why did KKR's Rana flaunt jersey with 'Surinde...  ...        sports\n",
              "8   KKR hand DC their 2nd loss in a row as Varun r...  ...        sports\n",
              "9   Hats off for turning up: Sachin on Rana, Mande...  ...        sports\n",
              "10  KXIP take last 6 wickets in 13 balls to defend...  ...        sports\n",
              "11  Tanmay, who top-scored in 2008 U-19 WC which I...  ...        sports\n",
              "12  Dhoni would be a lot more hurt as youngsters l...  ...        sports\n",
              "13  Padikkal hasn't got Hayden's chest but definit...  ...        sports\n",
              "14  CSK's Imran Tahir gives Riyan Parag leg-spin l...  ...        sports\n",
              "15  Happy to be back and performing: Narine on 64(...  ...        sports\n",
              "16  Almost perfect performance, lucky to have Bumr...  ...        sports\n",
              "17  Finally, RCB bowling unit has earned captain V...  ...        sports\n",
              "18  Glad it's happening at this point of time: Iye...  ...        sports\n",
              "19  Gave Bumrah the new ball to counter Rayudu: MI...  ...        sports\n",
              "20  Want to ensure India-China standoff doesn't es...  ...         world\n",
              "21  It's not how you talk about friends: Biden on ...  ...         world\n",
              "22  Nepal PM uses old map without Indian territory...  ...         world\n",
              "23  Monitoring Ladakh standoff, sharing info with ...  ...         world\n",
              "24  I voted for a guy named Trump: US Prez Trump c...  ...         world\n",
              "25  Just hair, bones: Officials as 7 decomposed bo...  ...         world\n",
              "26  US warns of Listeria outbreak linked to deli m...  ...         world\n",
              "27  Pakistani man born without arms masters playin...  ...         world\n",
              "28  What is yellow dust, which North Korea warned ...  ...         world\n",
              "29  In many ways it's good, in many ways foolish: ...  ...         world\n",
              "30  Senior al-Qaeda leader al-Masri who was on FBI...  ...         world\n",
              "31  Trump's dangerous rhetoric fuelled hate crimes...  ...         world\n",
              "32  State institute imports COVID-19 vaccine rejec...  ...         world\n",
              "33  US reports its biggest rise in daily COVID-19 ...  ...         world\n",
              "34  Asia becomes 2nd region in world to cross 1 cr...  ...         world\n",
              "35  Poland President Andrzej Duda tests positive f...  ...         world\n",
              "36  We may not recognise HK residents' British ove...  ...         world\n",
              "37  Release of Fukushima's water into sea can dama...  ...         world\n",
              "38  Will talk to UK PM to get Nawaz Sharif deporte...  ...         world\n",
              "39  No justification for Uighur concentration camp...  ...         world\n",
              "40  Former Maharashtra CM Devendra Fadnavis tests ...  ...      politics\n",
              "41  Farooq to be Prez, Mufti Vice-Prez of People's...  ...      politics\n",
              "42  Janta Dal Rashtravadi Party's candidate shot d...  ...      politics\n",
              "43  If you have ED, I have CD: Eknath Khadse after...  ...      politics\n",
              "44  President Kovind, Prime Minister Modi greet na...  ...      politics\n",
              "45  J&K leaders sometimes more dangerous than sepa...  ...      politics\n",
              "46  Conspiracies of 'Gupkar gang' will not be tole...  ...      politics\n",
              "47  Those who promoted jungle raj are talking of d...  ...      politics\n",
              "48  We have to light a lamp at home in honour of s...  ...      politics\n",
              "49  Include sanitation workers, domestic helps, gu...  ...      politics\n",
              "50  Why no Hathras-like picnic over Punjab rape: S...  ...      politics\n",
              "51  None of the Gandhis visited rape victim's fami...  ...      politics\n",
              "52  PM Modi pays tribute to former PM Indira Gandh...  ...      politics\n",
              "53  Mufti must be arrested for seditious remarks o...  ...      politics\n",
              "54  Rajnath Singh performs 'Shastra Puja' with Ind...  ...      politics\n",
              "55  COVID-19 vaccine should be free throughout the...  ...      politics\n",
              "56  Make COVID-19 vaccine free in K'taka too: Sidd...  ...      politics\n",
              "57  Delhi CM Kejriwal inaugurates flyovers at Seel...  ...      politics\n",
              "58  Delhi court issues bailable warrant against Ka...  ...      politics\n",
              "59  Lalu ji to be released on Nov 9, Nitish's fare...  ...      politics\n",
              "\n",
              "[60 rows x 3 columns]"
            ]
          },
          "metadata": {
            "tags": []
          },
          "execution_count": 30
        }
      ]
    },
    {
      "cell_type": "code",
      "metadata": {
        "colab": {
          "base_uri": "https://localhost:8080/"
        },
        "id": "neuK5HhWfUVV",
        "outputId": "08650f5a-6783-4bc4-885a-6aa8727fdbcf"
      },
      "source": [
        "import nltk\n",
        "nltk.download('stopwords')\n",
        "stopword_list = nltk.corpus.stopwords.words('english')\n",
        "stopword_list.remove('no')\n",
        "stopword_list.remove('not')\n",
        "len(stopword_list)"
      ],
      "execution_count": null,
      "outputs": [
        {
          "output_type": "stream",
          "text": [
            "[nltk_data] Downloading package stopwords to /root/nltk_data...\n",
            "[nltk_data]   Package stopwords is already up-to-date!\n"
          ],
          "name": "stdout"
        },
        {
          "output_type": "execute_result",
          "data": {
            "text/plain": [
              "177"
            ]
          },
          "metadata": {
            "tags": []
          },
          "execution_count": 33
        }
      ]
    },
    {
      "cell_type": "code",
      "metadata": {
        "id": "kZKLtXTThxp9"
      },
      "source": [
        "# Remove HTML Tag\n",
        "def html_tag(text):\n",
        "  soup = BeautifulSoup(text,\"html.parser\")\n",
        "  new_text = soup.get_text()\n",
        "  return new_text\n",
        "\n",
        "html_tag('<html><h2> Some important info </h2></html>')"
      ],
      "execution_count": null,
      "outputs": []
    },
    {
      "cell_type": "code",
      "metadata": {
        "colab": {
          "base_uri": "https://localhost:8080/",
          "height": 341
        },
        "id": "a5LViJYyiM8-",
        "outputId": "6ff4dfca-e121-45a8-b716-beef00389355"
      },
      "source": [
        "# Expand Contractions\n",
        "!pip install contractions\n",
        "import contractions\n",
        "def con(text):\n",
        "  expand = contractions.fix(text)\n",
        "  return expand\n",
        "\n",
        "con(\"Y'all can't expand I'd think\")"
      ],
      "execution_count": null,
      "outputs": [
        {
          "output_type": "stream",
          "text": [
            "Collecting contractions\n",
            "  Downloading https://files.pythonhosted.org/packages/0a/04/d5e0bb9f2cef5d15616ebf68087a725c5dbdd71bd422bcfb35d709f98ce7/contractions-0.0.48-py2.py3-none-any.whl\n",
            "Collecting textsearch>=0.0.21\n",
            "  Downloading https://files.pythonhosted.org/packages/d3/fe/021d7d76961b5ceb9f8d022c4138461d83beff36c3938dc424586085e559/textsearch-0.0.21-py2.py3-none-any.whl\n",
            "Collecting pyahocorasick\n",
            "\u001b[?25l  Downloading https://files.pythonhosted.org/packages/7f/c2/eae730037ae1cbbfaa229d27030d1d5e34a1e41114b21447d1202ae9c220/pyahocorasick-1.4.2.tar.gz (321kB)\n",
            "\u001b[K     |████████████████████████████████| 327kB 4.5MB/s \n",
            "\u001b[?25hCollecting anyascii\n",
            "\u001b[?25l  Downloading https://files.pythonhosted.org/packages/09/c7/61370d9e3c349478e89a5554c1e5d9658e1e3116cc4f2528f568909ebdf1/anyascii-0.1.7-py3-none-any.whl (260kB)\n",
            "\u001b[K     |████████████████████████████████| 266kB 7.6MB/s \n",
            "\u001b[?25hBuilding wheels for collected packages: pyahocorasick\n",
            "  Building wheel for pyahocorasick (setup.py) ... \u001b[?25l\u001b[?25hdone\n",
            "  Created wheel for pyahocorasick: filename=pyahocorasick-1.4.2-cp37-cp37m-linux_x86_64.whl size=85397 sha256=6beae6b3e9227cf740000559406ea7ac424df3460f120ac1ff5cca953d6dc5ce\n",
            "  Stored in directory: /root/.cache/pip/wheels/3a/03/34/77e3ece0bba8b86bfac88a79f923b36d805cad63caeba38842\n",
            "Successfully built pyahocorasick\n",
            "Installing collected packages: pyahocorasick, anyascii, textsearch, contractions\n",
            "Successfully installed anyascii-0.1.7 contractions-0.0.48 pyahocorasick-1.4.2 textsearch-0.0.21\n"
          ],
          "name": "stdout"
        },
        {
          "output_type": "execute_result",
          "data": {
            "application/vnd.google.colaboratory.intrinsic+json": {
              "type": "string"
            },
            "text/plain": [
              "'you all can not expand I would think'"
            ]
          },
          "metadata": {
            "tags": []
          },
          "execution_count": 40
        }
      ]
    },
    {
      "cell_type": "code",
      "metadata": {
        "colab": {
          "base_uri": "https://localhost:8080/",
          "height": 35
        },
        "id": "TE8LDgIhjcVc",
        "outputId": "ed3e87fd-3441-4a23-d6b5-1ba1d22bd133"
      },
      "source": [
        "# Special characters\n",
        "import re\n",
        "def remove_sp(text):\n",
        "  pattern = r'[^A-Za-z0-9\\s]'\n",
        "  text =re.sub(pattern,'',text)\n",
        "  return text\n",
        "\n",
        "remove_sp(\"+-#skdm\")"
      ],
      "execution_count": null,
      "outputs": [
        {
          "output_type": "execute_result",
          "data": {
            "application/vnd.google.colaboratory.intrinsic+json": {
              "type": "string"
            },
            "text/plain": [
              "'skdm'"
            ]
          },
          "metadata": {
            "tags": []
          },
          "execution_count": 42
        }
      ]
    },
    {
      "cell_type": "code",
      "metadata": {
        "id": "TRT0zCl4nrMl"
      },
      "source": [
        "from nltk.tokenize.toktok import ToktokTokenizer\n",
        "tokenizer = ToktokTokenizer()"
      ],
      "execution_count": null,
      "outputs": []
    },
    {
      "cell_type": "code",
      "metadata": {
        "id": "bxj8FRjjlw-j"
      },
      "source": [
        "def remove_stopwords(text):\n",
        "  tokens = tokenizer.tokenize(text)\n",
        "  tokens = [token.strip() for token in tokens]\n",
        "  filtered_tokens = [token for token in tokens if token not in stopword_list]\n",
        "  filtered_text = ''.join(filtered_tokens)\n",
        "  return filtered_text"
      ],
      "execution_count": null,
      "outputs": []
    },
    {
      "cell_type": "code",
      "metadata": {
        "colab": {
          "base_uri": "https://localhost:8080/",
          "height": 35
        },
        "id": "GSDrgTvxnYk_",
        "outputId": "b31d44d4-e7c6-4731-9143-dae367f0ce5c"
      },
      "source": [
        "remove_stopwords(\"The, and , if are all stopwords and even not\")"
      ],
      "execution_count": null,
      "outputs": [
        {
          "output_type": "execute_result",
          "data": {
            "application/vnd.google.colaboratory.intrinsic+json": {
              "type": "string"
            },
            "text/plain": [
              "'The,,stopwordsevennot'"
            ]
          },
          "metadata": {
            "tags": []
          },
          "execution_count": 49
        }
      ]
    },
    {
      "cell_type": "code",
      "metadata": {
        "id": "HyVpdMObvgk_"
      },
      "source": [
        "# 1. Lower case\n",
        "# 2. HTML Tags\n",
        "# 3. Contractions\n",
        "# 4. Special Characters\n",
        "# 5. Stop words \n",
        "\n",
        "df.news_headline = df.news_headline.apply(lambda x:x.lower())\n",
        "df.news_article = df.news_article.apply(lambda x:x.lower())\n",
        "\n",
        "df.news_headline = df.news_headline.apply(html_tag)\n",
        "df.news_article = df.news_article.apply(html_tag)\n",
        "\n",
        "df.news_headline = df.news_headline.apply(con)\n",
        "df.news_article = df.news_article.apply(con)\n",
        "\n",
        "df.news_headline = df.news_headline.apply(remove_sp)\n",
        "df.news_article = df.news_article.apply(remove_sp)\n",
        "\n",
        "df.news_headline = df.news_headline.apply(remove_stopwords)\n",
        "df.news_article = df.news_article.apply(remove_stopwords)\n",
        "\n",
        "df.head()"
      ],
      "execution_count": null,
      "outputs": []
    },
    {
      "cell_type": "code",
      "metadata": {
        "id": "qUooeD8mv2aw"
      },
      "source": [
        "df['compound'] = df['news_article'].apply(lambda x: vs.polarity_scores(x)['compound'])"
      ],
      "execution_count": 53,
      "outputs": []
    },
    {
      "cell_type": "code",
      "metadata": {
        "colab": {
          "base_uri": "https://localhost:8080/",
          "height": 195
        },
        "id": "1w6Tj1UOwUXI",
        "outputId": "ed3e9ea7-edc8-417a-84eb-63e4b12caec3"
      },
      "source": [
        "df.head()"
      ],
      "execution_count": 54,
      "outputs": [
        {
          "output_type": "execute_result",
          "data": {
            "text/html": [
              "<div>\n",
              "<style scoped>\n",
              "    .dataframe tbody tr th:only-of-type {\n",
              "        vertical-align: middle;\n",
              "    }\n",
              "\n",
              "    .dataframe tbody tr th {\n",
              "        vertical-align: top;\n",
              "    }\n",
              "\n",
              "    .dataframe thead th {\n",
              "        text-align: right;\n",
              "    }\n",
              "</style>\n",
              "<table border=\"1\" class=\"dataframe\">\n",
              "  <thead>\n",
              "    <tr style=\"text-align: right;\">\n",
              "      <th></th>\n",
              "      <th>news_headline</th>\n",
              "      <th>news_article</th>\n",
              "      <th>news_category</th>\n",
              "      <th>compound</th>\n",
              "    </tr>\n",
              "  </thead>\n",
              "  <tbody>\n",
              "    <tr>\n",
              "      <th>0</th>\n",
              "      <td>i'm a sucker for underdog stories, talking to ...</td>\n",
              "      <td>talking about kkr spinner varun chakravarthy, ...</td>\n",
              "      <td>sports</td>\n",
              "      <td>-0.0516</td>\n",
              "    </tr>\n",
              "    <tr>\n",
              "      <th>1</th>\n",
              "      <td>bolta hoon bhai: rajasthan royals to fan reque...</td>\n",
              "      <td>a fan took to twitter to request rajasthan roy...</td>\n",
              "      <td>sports</td>\n",
              "      <td>0.8591</td>\n",
              "    </tr>\n",
              "    <tr>\n",
              "      <th>2</th>\n",
              "      <td>why are kxip players wearing black armbands in...</td>\n",
              "      <td>kings xi punjab cricketers are wearing black a...</td>\n",
              "      <td>sports</td>\n",
              "      <td>-0.3080</td>\n",
              "    </tr>\n",
              "    <tr>\n",
              "      <th>3</th>\n",
              "      <td>ipl 2020 points table is getting interesting: ...</td>\n",
              "      <td>after kxip took srh's last six wickets in 13 b...</td>\n",
              "      <td>sports</td>\n",
              "      <td>0.2244</td>\n",
              "    </tr>\n",
              "    <tr>\n",
              "      <th>4</th>\n",
              "      <td>how many indian cricketers have hit 100 sixes ...</td>\n",
              "      <td>dc's rishabh pant today became the 14th indian...</td>\n",
              "      <td>sports</td>\n",
              "      <td>0.0000</td>\n",
              "    </tr>\n",
              "  </tbody>\n",
              "</table>\n",
              "</div>"
            ],
            "text/plain": [
              "                                       news_headline  ... compound\n",
              "0  i'm a sucker for underdog stories, talking to ...  ...  -0.0516\n",
              "1  bolta hoon bhai: rajasthan royals to fan reque...  ...   0.8591\n",
              "2  why are kxip players wearing black armbands in...  ...  -0.3080\n",
              "3  ipl 2020 points table is getting interesting: ...  ...   0.2244\n",
              "4  how many indian cricketers have hit 100 sixes ...  ...   0.0000\n",
              "\n",
              "[5 rows x 4 columns]"
            ]
          },
          "metadata": {
            "tags": []
          },
          "execution_count": 54
        }
      ]
    },
    {
      "cell_type": "code",
      "metadata": {
        "id": "c7c3XQ1BwXgI"
      },
      "source": [
        ""
      ],
      "execution_count": null,
      "outputs": []
    },
    {
      "cell_type": "code",
      "metadata": {
        "id": "oh2WoiIpwcSY"
      },
      "source": [
        ""
      ],
      "execution_count": null,
      "outputs": []
    }
  ]
}